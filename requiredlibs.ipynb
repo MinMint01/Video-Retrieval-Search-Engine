{
 "cells": [
  {
   "attachments": {},
   "cell_type": "markdown",
   "metadata": {},
   "source": [
    "**INSTALLING REQUIRED MODULES**"
   ]
  },
  {
   "attachments": {},
   "cell_type": "markdown",
   "metadata": {},
   "source": [
    ">OpenCV"
   ]
  },
  {
   "cell_type": "code",
   "execution_count": 1,
   "metadata": {},
   "outputs": [
    {
     "name": "stdout",
     "output_type": "stream",
     "text": [
      "Collecting opencv-python\n",
      "  Using cached opencv_python-4.7.0.72-cp37-abi3-win_amd64.whl (38.2 MB)\n",
      "Collecting numpy>=1.21.2 (from opencv-python)\n",
      "  Using cached numpy-1.24.3-cp311-cp311-win_amd64.whl (14.8 MB)\n",
      "Installing collected packages: numpy, opencv-python\n",
      "Successfully installed numpy-1.24.3 opencv-python-4.7.0.72\n",
      "Note: you may need to restart the kernel to use updated packages.\n",
      "Collecting opencv-contrib-python\n",
      "  Using cached opencv_contrib_python-4.7.0.72-cp37-abi3-win_amd64.whl (44.9 MB)\n",
      "Requirement already satisfied: numpy>=1.21.2 in e:\\saintgits folder\\t (mini project)\\code\\env\\lib\\site-packages (from opencv-contrib-python) (1.24.3)\n",
      "Installing collected packages: opencv-contrib-python\n",
      "Successfully installed opencv-contrib-python-4.7.0.72\n",
      "Note: you may need to restart the kernel to use updated packages.\n",
      "Requirement already satisfied: opencv-python in e:\\saintgits folder\\t (mini project)\\code\\env\\lib\\site-packages (4.7.0.72)\n",
      "Collecting opencv-python-headless\n",
      "  Using cached opencv_python_headless-4.7.0.72-cp37-abi3-win_amd64.whl (38.1 MB)\n",
      "Requirement already satisfied: numpy>=1.21.2 in e:\\saintgits folder\\t (mini project)\\code\\env\\lib\\site-packages (from opencv-python) (1.24.3)\n",
      "Installing collected packages: opencv-python-headless\n",
      "Successfully installed opencv-python-headless-4.7.0.72\n",
      "Note: you may need to restart the kernel to use updated packages.\n"
     ]
    }
   ],
   "source": [
    "%pip install opencv-python\n",
    "\n",
    "%pip install opencv-contrib-python\n",
    "\n",
    "%pip install opencv-python opencv-python-headless"
   ]
  },
  {
   "attachments": {},
   "cell_type": "markdown",
   "metadata": {},
   "source": [
    ">Sklearn"
   ]
  },
  {
   "cell_type": "code",
   "execution_count": 2,
   "metadata": {},
   "outputs": [
    {
     "name": "stdout",
     "output_type": "stream",
     "text": [
      "Collecting sklearn\n",
      "  Using cached sklearn-0.0.post5.tar.gz (3.7 kB)\n",
      "  Installing build dependencies: started\n",
      "  Installing build dependencies: finished with status 'done'\n",
      "  Getting requirements to build wheel: started\n",
      "  Getting requirements to build wheel: finished with status 'done'\n",
      "  Preparing metadata (pyproject.toml): started\n",
      "  Preparing metadata (pyproject.toml): finished with status 'done'\n",
      "Building wheels for collected packages: sklearn\n",
      "  Building wheel for sklearn (pyproject.toml): started\n",
      "  Building wheel for sklearn (pyproject.toml): finished with status 'done'\n",
      "  Created wheel for sklearn: filename=sklearn-0.0.post5-py3-none-any.whl size=2968 sha256=a3d977c1afb20d800d53bed9bfd2c2d273e6c4e943aa7cedb5fff9e31b6f1450\n",
      "  Stored in directory: c:\\users\\hp\\appdata\\local\\pip\\cache\\wheels\\5f\\28\\a6\\4e4fc2959e4ed9b33bf517703534fd8b19b76a842f74c9ed4c\n",
      "Successfully built sklearn\n",
      "Installing collected packages: sklearn\n",
      "Successfully installed sklearn-0.0.post5\n",
      "Note: you may need to restart the kernel to use updated packages.\n"
     ]
    }
   ],
   "source": [
    "%pip install sklearn"
   ]
  },
  {
   "attachments": {},
   "cell_type": "markdown",
   "metadata": {},
   "source": [
    ">Scikit-learn"
   ]
  },
  {
   "cell_type": "code",
   "execution_count": 3,
   "metadata": {},
   "outputs": [
    {
     "name": "stdout",
     "output_type": "stream",
     "text": [
      "Collecting scikit-learn\n",
      "  Using cached scikit_learn-1.2.2-cp311-cp311-win_amd64.whl (8.3 MB)\n",
      "Requirement already satisfied: numpy>=1.17.3 in e:\\saintgits folder\\t (mini project)\\code\\env\\lib\\site-packages (from scikit-learn) (1.24.3)\n",
      "Collecting scipy>=1.3.2 (from scikit-learn)\n",
      "  Using cached scipy-1.10.1-cp311-cp311-win_amd64.whl (42.2 MB)\n",
      "Collecting joblib>=1.1.1 (from scikit-learn)\n",
      "  Using cached joblib-1.2.0-py3-none-any.whl (297 kB)\n",
      "Collecting threadpoolctl>=2.0.0 (from scikit-learn)\n",
      "  Using cached threadpoolctl-3.1.0-py3-none-any.whl (14 kB)\n",
      "Installing collected packages: threadpoolctl, scipy, joblib, scikit-learn\n",
      "Successfully installed joblib-1.2.0 scikit-learn-1.2.2 scipy-1.10.1 threadpoolctl-3.1.0\n",
      "Note: you may need to restart the kernel to use updated packages.\n"
     ]
    }
   ],
   "source": [
    "%pip install scikit-learn"
   ]
  },
  {
   "attachments": {},
   "cell_type": "markdown",
   "metadata": {},
   "source": [
    ">Skimage"
   ]
  },
  {
   "cell_type": "code",
   "execution_count": 1,
   "metadata": {},
   "outputs": [
    {
     "name": "stdout",
     "output_type": "stream",
     "text": [
      "Collecting scikit-image\n",
      "  Downloading scikit_image-0.21.0-cp311-cp311-win_amd64.whl (22.8 MB)\n",
      "                                              0.0/22.8 MB ? eta -:--:--\n",
      "                                              0.0/22.8 MB ? eta -:--:--\n",
      "                                              0.0/22.8 MB ? eta -:--:--\n",
      "                                             0.1/22.8 MB 871.5 kB/s eta 0:00:27\n",
      "                                              0.2/22.8 MB 1.1 MB/s eta 0:00:22\n",
      "                                              0.3/22.8 MB 1.5 MB/s eta 0:00:16\n",
      "                                              0.3/22.8 MB 1.5 MB/s eta 0:00:16\n",
      "                                              0.4/22.8 MB 1.3 MB/s eta 0:00:17\n",
      "     -                                        0.6/22.8 MB 1.6 MB/s eta 0:00:14\n",
      "     -                                        0.8/22.8 MB 1.9 MB/s eta 0:00:12\n",
      "     -                                        0.8/22.8 MB 1.9 MB/s eta 0:00:12\n",
      "     -                                        0.8/22.8 MB 1.9 MB/s eta 0:00:12\n",
      "     -                                        0.9/22.8 MB 1.7 MB/s eta 0:00:13\n",
      "     -                                        1.0/22.8 MB 1.7 MB/s eta 0:00:13\n",
      "     -                                        1.1/22.8 MB 1.7 MB/s eta 0:00:13\n",
      "     --                                       1.2/22.8 MB 1.8 MB/s eta 0:00:12\n",
      "     --                                       1.4/22.8 MB 2.0 MB/s eta 0:00:11\n",
      "     --                                       1.6/22.8 MB 2.1 MB/s eta 0:00:11\n",
      "     ---                                      1.8/22.8 MB 2.2 MB/s eta 0:00:10\n",
      "     ---                                      2.0/22.8 MB 2.3 MB/s eta 0:00:09\n",
      "     ---                                      2.1/22.8 MB 2.4 MB/s eta 0:00:09\n",
      "     ----                                     2.3/22.8 MB 2.5 MB/s eta 0:00:09\n",
      "     ----                                     2.5/22.8 MB 2.6 MB/s eta 0:00:08\n",
      "     ----                                     2.7/22.8 MB 2.6 MB/s eta 0:00:08\n",
      "     ----                                     2.8/22.8 MB 2.7 MB/s eta 0:00:08\n",
      "     -----                                    3.0/22.8 MB 2.7 MB/s eta 0:00:08\n",
      "     -----                                    3.2/22.8 MB 2.8 MB/s eta 0:00:08\n",
      "     -----                                    3.3/22.8 MB 2.8 MB/s eta 0:00:07\n",
      "     ------                                   3.5/22.8 MB 2.8 MB/s eta 0:00:07\n",
      "     ------                                   3.7/22.8 MB 2.9 MB/s eta 0:00:07\n",
      "     ------                                   3.9/22.8 MB 2.9 MB/s eta 0:00:07\n",
      "     -------                                  4.1/22.8 MB 2.9 MB/s eta 0:00:07\n",
      "     -------                                  4.3/22.8 MB 3.0 MB/s eta 0:00:07\n",
      "     -------                                  4.5/22.8 MB 3.0 MB/s eta 0:00:07\n",
      "     --------                                 4.6/22.8 MB 3.1 MB/s eta 0:00:06\n",
      "     --------                                 4.8/22.8 MB 3.1 MB/s eta 0:00:06\n",
      "     --------                                 5.0/22.8 MB 3.1 MB/s eta 0:00:06\n",
      "     ---------                                5.2/22.8 MB 3.1 MB/s eta 0:00:06\n",
      "     ---------                                5.4/22.8 MB 3.2 MB/s eta 0:00:06\n",
      "     ---------                                5.6/22.8 MB 3.2 MB/s eta 0:00:06\n",
      "     ----------                               5.9/22.8 MB 3.3 MB/s eta 0:00:06\n",
      "     ----------                               6.1/22.8 MB 3.3 MB/s eta 0:00:06\n",
      "     ----------                               6.3/22.8 MB 3.3 MB/s eta 0:00:05\n",
      "     -----------                              6.4/22.8 MB 3.3 MB/s eta 0:00:05\n",
      "     -----------                              6.7/22.8 MB 3.4 MB/s eta 0:00:05\n",
      "     ------------                             7.0/22.8 MB 3.5 MB/s eta 0:00:05\n",
      "     ------------                             7.1/22.8 MB 3.5 MB/s eta 0:00:05\n",
      "     ------------                             7.4/22.8 MB 3.5 MB/s eta 0:00:05\n",
      "     -------------                            7.6/22.8 MB 3.6 MB/s eta 0:00:05\n",
      "     -------------                            7.9/22.8 MB 3.6 MB/s eta 0:00:05\n",
      "     --------------                           8.1/22.8 MB 3.6 MB/s eta 0:00:05\n",
      "     --------------                           8.3/22.8 MB 3.7 MB/s eta 0:00:04\n",
      "     ---------------                          8.6/22.8 MB 3.7 MB/s eta 0:00:04\n",
      "     ---------------                          8.8/22.8 MB 3.8 MB/s eta 0:00:04\n",
      "     ----------------                         9.1/22.8 MB 3.8 MB/s eta 0:00:04\n",
      "     ----------------                         9.4/22.8 MB 3.8 MB/s eta 0:00:04\n",
      "     ----------------                         9.6/22.8 MB 3.9 MB/s eta 0:00:04\n",
      "     -----------------                        9.9/22.8 MB 3.9 MB/s eta 0:00:04\n",
      "     -----------------                        10.2/22.8 MB 4.0 MB/s eta 0:00:04\n",
      "     ------------------                       10.5/22.8 MB 4.2 MB/s eta 0:00:03\n",
      "     -------------------                      10.8/22.8 MB 4.4 MB/s eta 0:00:03\n",
      "     -------------------                      11.1/22.8 MB 4.6 MB/s eta 0:00:03\n",
      "     -------------------                      11.3/22.8 MB 4.8 MB/s eta 0:00:03\n",
      "     --------------------                     11.6/22.8 MB 4.9 MB/s eta 0:00:03\n",
      "     --------------------                     11.9/22.8 MB 5.0 MB/s eta 0:00:03\n",
      "     ---------------------                    12.2/22.8 MB 5.0 MB/s eta 0:00:03\n",
      "     ---------------------                    12.5/22.8 MB 5.1 MB/s eta 0:00:03\n",
      "     ----------------------                   12.7/22.8 MB 5.2 MB/s eta 0:00:02\n",
      "     -----------------------                  13.1/22.8 MB 5.4 MB/s eta 0:00:02\n",
      "     -----------------------                  13.4/22.8 MB 5.5 MB/s eta 0:00:02\n",
      "     ------------------------                 13.7/22.8 MB 5.5 MB/s eta 0:00:02\n",
      "     ------------------------                 14.1/22.8 MB 5.7 MB/s eta 0:00:02\n",
      "     -------------------------                14.4/22.8 MB 5.8 MB/s eta 0:00:02\n",
      "     --------------------------               14.8/22.8 MB 6.0 MB/s eta 0:00:02\n",
      "     --------------------------               15.2/22.8 MB 6.1 MB/s eta 0:00:02\n",
      "     ---------------------------              15.5/22.8 MB 6.2 MB/s eta 0:00:02\n",
      "     ---------------------------              15.9/22.8 MB 6.4 MB/s eta 0:00:02\n",
      "     ----------------------------             16.3/22.8 MB 6.5 MB/s eta 0:00:01\n",
      "     -----------------------------            16.7/22.8 MB 6.7 MB/s eta 0:00:01\n",
      "     -----------------------------            17.0/22.8 MB 6.8 MB/s eta 0:00:01\n",
      "     ------------------------------           17.4/22.8 MB 6.8 MB/s eta 0:00:01\n",
      "     -------------------------------          17.7/22.8 MB 6.9 MB/s eta 0:00:01\n",
      "     -------------------------------          17.9/22.8 MB 6.8 MB/s eta 0:00:01\n",
      "     -------------------------------          18.0/22.8 MB 6.7 MB/s eta 0:00:01\n",
      "     -------------------------------          18.1/22.8 MB 6.7 MB/s eta 0:00:01\n",
      "     --------------------------------         18.4/22.8 MB 6.7 MB/s eta 0:00:01\n",
      "     --------------------------------         18.5/22.8 MB 6.5 MB/s eta 0:00:01\n",
      "     --------------------------------         18.7/22.8 MB 6.5 MB/s eta 0:00:01\n",
      "     ---------------------------------        18.8/22.8 MB 6.5 MB/s eta 0:00:01\n",
      "     ---------------------------------        19.0/22.8 MB 6.4 MB/s eta 0:00:01\n",
      "     ---------------------------------        19.1/22.8 MB 6.3 MB/s eta 0:00:01\n",
      "     ---------------------------------        19.3/22.8 MB 6.2 MB/s eta 0:00:01\n",
      "     ----------------------------------       19.4/22.8 MB 6.1 MB/s eta 0:00:01\n",
      "     ----------------------------------       19.5/22.8 MB 6.1 MB/s eta 0:00:01\n",
      "     ----------------------------------       19.6/22.8 MB 5.9 MB/s eta 0:00:01\n",
      "     ----------------------------------       19.7/22.8 MB 5.8 MB/s eta 0:00:01\n",
      "     ----------------------------------       19.9/22.8 MB 5.8 MB/s eta 0:00:01\n",
      "     -----------------------------------      20.0/22.8 MB 5.7 MB/s eta 0:00:01\n",
      "     -----------------------------------      20.1/22.8 MB 5.6 MB/s eta 0:00:01\n",
      "     -----------------------------------      20.2/22.8 MB 5.6 MB/s eta 0:00:01\n",
      "     -----------------------------------      20.4/22.8 MB 5.5 MB/s eta 0:00:01\n",
      "     ------------------------------------     20.5/22.8 MB 5.5 MB/s eta 0:00:01\n",
      "     ------------------------------------     20.7/22.8 MB 5.4 MB/s eta 0:00:01\n",
      "     ------------------------------------     20.8/22.8 MB 5.3 MB/s eta 0:00:01\n",
      "     ------------------------------------     21.0/22.8 MB 5.3 MB/s eta 0:00:01\n",
      "     -------------------------------------    21.1/22.8 MB 5.2 MB/s eta 0:00:01\n",
      "     -------------------------------------    21.4/22.8 MB 5.2 MB/s eta 0:00:01\n",
      "     -------------------------------------    21.5/22.8 MB 5.1 MB/s eta 0:00:01\n",
      "     --------------------------------------   21.7/22.8 MB 5.1 MB/s eta 0:00:01\n",
      "     --------------------------------------   21.9/22.8 MB 5.0 MB/s eta 0:00:01\n",
      "     --------------------------------------   22.0/22.8 MB 5.0 MB/s eta 0:00:01\n",
      "     ---------------------------------------  22.2/22.8 MB 5.0 MB/s eta 0:00:01\n",
      "     ---------------------------------------  22.4/22.8 MB 4.9 MB/s eta 0:00:01\n",
      "     ---------------------------------------  22.7/22.8 MB 4.9 MB/s eta 0:00:01\n",
      "     ---------------------------------------  22.8/22.8 MB 4.8 MB/s eta 0:00:01\n",
      "     ---------------------------------------  22.8/22.8 MB 4.8 MB/s eta 0:00:01\n",
      "     ---------------------------------------- 22.8/22.8 MB 4.6 MB/s eta 0:00:00\n",
      "Requirement already satisfied: numpy>=1.21.1 in e:\\saintgits folder\\t (mini project)\\code\\env\\lib\\site-packages (from scikit-image) (1.24.3)\n",
      "Requirement already satisfied: scipy>=1.8 in e:\\saintgits folder\\t (mini project)\\code\\env\\lib\\site-packages (from scikit-image) (1.10.1)\n",
      "Collecting networkx>=2.8 (from scikit-image)\n",
      "  Using cached networkx-3.1-py3-none-any.whl (2.1 MB)\n",
      "Collecting pillow>=9.0.1 (from scikit-image)\n",
      "  Using cached Pillow-9.5.0-cp311-cp311-win_amd64.whl (2.5 MB)\n",
      "Collecting imageio>=2.27 (from scikit-image)\n",
      "  Downloading imageio-2.31.0-py3-none-any.whl (313 kB)\n",
      "                                              0.0/313.2 kB ? eta -:--:--\n",
      "     ------------------                     153.6/313.2 kB 4.6 MB/s eta 0:00:01\n",
      "     -------------------------------------- 313.2/313.2 kB 4.9 MB/s eta 0:00:00\n",
      "Collecting tifffile>=2022.8.12 (from scikit-image)\n",
      "  Using cached tifffile-2023.4.12-py3-none-any.whl (219 kB)\n",
      "Collecting PyWavelets>=1.1.1 (from scikit-image)\n",
      "  Using cached PyWavelets-1.4.1-cp311-cp311-win_amd64.whl (4.2 MB)\n",
      "Requirement already satisfied: packaging>=21 in e:\\saintgits folder\\t (mini project)\\code\\env\\lib\\site-packages (from scikit-image) (23.1)\n",
      "Collecting lazy_loader>=0.2 (from scikit-image)\n",
      "  Using cached lazy_loader-0.2-py3-none-any.whl (8.6 kB)\n",
      "Installing collected packages: tifffile, PyWavelets, pillow, networkx, lazy_loader, imageio, scikit-image\n",
      "Successfully installed PyWavelets-1.4.1 imageio-2.31.0 lazy_loader-0.2 networkx-3.1 pillow-9.5.0 scikit-image-0.21.0 tifffile-2023.4.12\n",
      "Note: you may need to restart the kernel to use updated packages.\n"
     ]
    }
   ],
   "source": [
    "%pip install scikit-image"
   ]
  },
  {
   "attachments": {},
   "cell_type": "markdown",
   "metadata": {},
   "source": [
    ">Flask"
   ]
  },
  {
   "cell_type": "code",
   "execution_count": 1,
   "metadata": {},
   "outputs": [
    {
     "name": "stdout",
     "output_type": "stream",
     "text": [
      "Collecting flask\n",
      "  Using cached Flask-2.3.2-py3-none-any.whl (96 kB)\n",
      "Collecting Werkzeug>=2.3.3 (from flask)\n",
      "  Using cached Werkzeug-2.3.4-py3-none-any.whl (242 kB)\n",
      "Collecting Jinja2>=3.1.2 (from flask)\n",
      "  Using cached Jinja2-3.1.2-py3-none-any.whl (133 kB)\n",
      "Collecting itsdangerous>=2.1.2 (from flask)\n",
      "  Using cached itsdangerous-2.1.2-py3-none-any.whl (15 kB)\n",
      "Collecting click>=8.1.3 (from flask)\n",
      "  Using cached click-8.1.3-py3-none-any.whl (96 kB)\n",
      "Collecting blinker>=1.6.2 (from flask)\n",
      "  Using cached blinker-1.6.2-py3-none-any.whl (13 kB)\n",
      "Requirement already satisfied: colorama in e:\\saintgits folder\\t (mini project)\\code\\env\\lib\\site-packages (from click>=8.1.3->flask) (0.4.6)\n",
      "Collecting MarkupSafe>=2.0 (from Jinja2>=3.1.2->flask)\n",
      "  Downloading MarkupSafe-2.1.3-cp311-cp311-win_amd64.whl (17 kB)\n",
      "Installing collected packages: MarkupSafe, itsdangerous, click, blinker, Werkzeug, Jinja2, flask\n",
      "Successfully installed Jinja2-3.1.2 MarkupSafe-2.1.3 Werkzeug-2.3.4 blinker-1.6.2 click-8.1.3 flask-2.3.2 itsdangerous-2.1.2\n",
      "Note: you may need to restart the kernel to use updated packages.\n"
     ]
    }
   ],
   "source": [
    "%pip install flask"
   ]
  },
  {
   "attachments": {},
   "cell_type": "markdown",
   "metadata": {},
   "source": [
    ">PyDrive"
   ]
  },
  {
   "cell_type": "code",
   "execution_count": 1,
   "metadata": {},
   "outputs": [
    {
     "name": "stdout",
     "output_type": "stream",
     "text": [
      "Requirement already satisfied: pydrive in e:\\saintgits folder\\t (mini project)\\code\\env\\lib\\site-packages (1.3.1)\n",
      "Requirement already satisfied: google-api-python-client>=1.2 in e:\\saintgits folder\\t (mini project)\\code\\env\\lib\\site-packages (from pydrive) (2.88.0)\n",
      "Requirement already satisfied: oauth2client>=4.0.0 in e:\\saintgits folder\\t (mini project)\\code\\env\\lib\\site-packages (from pydrive) (4.1.3)\n",
      "Requirement already satisfied: PyYAML>=3.0 in e:\\saintgits folder\\t (mini project)\\code\\env\\lib\\site-packages (from pydrive) (6.0)\n",
      "Requirement already satisfied: httplib2<1dev,>=0.15.0 in e:\\saintgits folder\\t (mini project)\\code\\env\\lib\\site-packages (from google-api-python-client>=1.2->pydrive) (0.22.0)\n",
      "Requirement already satisfied: google-auth<3.0.0dev,>=1.19.0 in e:\\saintgits folder\\t (mini project)\\code\\env\\lib\\site-packages (from google-api-python-client>=1.2->pydrive) (2.19.1)\n",
      "Requirement already satisfied: google-auth-httplib2>=0.1.0 in e:\\saintgits folder\\t (mini project)\\code\\env\\lib\\site-packages (from google-api-python-client>=1.2->pydrive) (0.1.0)\n",
      "Requirement already satisfied: google-api-core!=2.0.*,!=2.1.*,!=2.2.*,!=2.3.0,<3.0.0dev,>=1.31.5 in e:\\saintgits folder\\t (mini project)\\code\\env\\lib\\site-packages (from google-api-python-client>=1.2->pydrive) (2.11.0)\n",
      "Requirement already satisfied: uritemplate<5,>=3.0.1 in e:\\saintgits folder\\t (mini project)\\code\\env\\lib\\site-packages (from google-api-python-client>=1.2->pydrive) (4.1.1)\n",
      "Requirement already satisfied: pyasn1>=0.1.7 in e:\\saintgits folder\\t (mini project)\\code\\env\\lib\\site-packages (from oauth2client>=4.0.0->pydrive) (0.5.0)\n",
      "Requirement already satisfied: pyasn1-modules>=0.0.5 in e:\\saintgits folder\\t (mini project)\\code\\env\\lib\\site-packages (from oauth2client>=4.0.0->pydrive) (0.3.0)\n",
      "Requirement already satisfied: rsa>=3.1.4 in e:\\saintgits folder\\t (mini project)\\code\\env\\lib\\site-packages (from oauth2client>=4.0.0->pydrive) (4.9)\n",
      "Requirement already satisfied: six>=1.6.1 in e:\\saintgits folder\\t (mini project)\\code\\env\\lib\\site-packages (from oauth2client>=4.0.0->pydrive) (1.16.0)\n",
      "Requirement already satisfied: googleapis-common-protos<2.0dev,>=1.56.2 in e:\\saintgits folder\\t (mini project)\\code\\env\\lib\\site-packages (from google-api-core!=2.0.*,!=2.1.*,!=2.2.*,!=2.3.0,<3.0.0dev,>=1.31.5->google-api-python-client>=1.2->pydrive) (1.59.0)\n",
      "Requirement already satisfied: protobuf!=3.20.0,!=3.20.1,!=4.21.0,!=4.21.1,!=4.21.2,!=4.21.3,!=4.21.4,!=4.21.5,<5.0.0dev,>=3.19.5 in e:\\saintgits folder\\t (mini project)\\code\\env\\lib\\site-packages (from google-api-core!=2.0.*,!=2.1.*,!=2.2.*,!=2.3.0,<3.0.0dev,>=1.31.5->google-api-python-client>=1.2->pydrive) (4.23.2)\n",
      "Requirement already satisfied: requests<3.0.0dev,>=2.18.0 in e:\\saintgits folder\\t (mini project)\\code\\env\\lib\\site-packages (from google-api-core!=2.0.*,!=2.1.*,!=2.2.*,!=2.3.0,<3.0.0dev,>=1.31.5->google-api-python-client>=1.2->pydrive) (2.31.0)\n",
      "Requirement already satisfied: cachetools<6.0,>=2.0.0 in e:\\saintgits folder\\t (mini project)\\code\\env\\lib\\site-packages (from google-auth<3.0.0dev,>=1.19.0->google-api-python-client>=1.2->pydrive) (5.3.1)\n",
      "Requirement already satisfied: urllib3<2.0 in e:\\saintgits folder\\t (mini project)\\code\\env\\lib\\site-packages (from google-auth<3.0.0dev,>=1.19.0->google-api-python-client>=1.2->pydrive) (1.26.16)\n",
      "Requirement already satisfied: pyparsing!=3.0.0,!=3.0.1,!=3.0.2,!=3.0.3,<4,>=2.4.2 in e:\\saintgits folder\\t (mini project)\\code\\env\\lib\\site-packages (from httplib2<1dev,>=0.15.0->google-api-python-client>=1.2->pydrive) (3.0.9)\n",
      "Requirement already satisfied: charset-normalizer<4,>=2 in e:\\saintgits folder\\t (mini project)\\code\\env\\lib\\site-packages (from requests<3.0.0dev,>=2.18.0->google-api-core!=2.0.*,!=2.1.*,!=2.2.*,!=2.3.0,<3.0.0dev,>=1.31.5->google-api-python-client>=1.2->pydrive) (3.1.0)\n",
      "Requirement already satisfied: idna<4,>=2.5 in e:\\saintgits folder\\t (mini project)\\code\\env\\lib\\site-packages (from requests<3.0.0dev,>=2.18.0->google-api-core!=2.0.*,!=2.1.*,!=2.2.*,!=2.3.0,<3.0.0dev,>=1.31.5->google-api-python-client>=1.2->pydrive) (3.4)\n",
      "Requirement already satisfied: certifi>=2017.4.17 in e:\\saintgits folder\\t (mini project)\\code\\env\\lib\\site-packages (from requests<3.0.0dev,>=2.18.0->google-api-core!=2.0.*,!=2.1.*,!=2.2.*,!=2.3.0,<3.0.0dev,>=1.31.5->google-api-python-client>=1.2->pydrive) (2023.5.7)\n",
      "Note: you may need to restart the kernel to use updated packages.\n"
     ]
    }
   ],
   "source": [
    "%pip install pydrive"
   ]
  },
  {
   "attachments": {},
   "cell_type": "markdown",
   "metadata": {},
   "source": [
    ">oauth"
   ]
  },
  {
   "cell_type": "code",
   "execution_count": 3,
   "metadata": {},
   "outputs": [
    {
     "name": "stdout",
     "output_type": "stream",
     "text": [
      "Requirement already satisfied: oauth2client in e:\\saintgits folder\\t (mini project)\\code\\env\\lib\\site-packages (4.1.3)Note: you may need to restart the kernel to use updated packages.\n",
      "\n",
      "Requirement already satisfied: httplib2>=0.9.1 in e:\\saintgits folder\\t (mini project)\\code\\env\\lib\\site-packages (from oauth2client) (0.22.0)\n",
      "Requirement already satisfied: pyasn1>=0.1.7 in e:\\saintgits folder\\t (mini project)\\code\\env\\lib\\site-packages (from oauth2client) (0.5.0)\n",
      "Requirement already satisfied: pyasn1-modules>=0.0.5 in e:\\saintgits folder\\t (mini project)\\code\\env\\lib\\site-packages (from oauth2client) (0.3.0)\n",
      "Requirement already satisfied: rsa>=3.1.4 in e:\\saintgits folder\\t (mini project)\\code\\env\\lib\\site-packages (from oauth2client) (4.9)\n",
      "Requirement already satisfied: six>=1.6.1 in e:\\saintgits folder\\t (mini project)\\code\\env\\lib\\site-packages (from oauth2client) (1.16.0)\n",
      "Requirement already satisfied: pyparsing!=3.0.0,!=3.0.1,!=3.0.2,!=3.0.3,<4,>=2.4.2 in e:\\saintgits folder\\t (mini project)\\code\\env\\lib\\site-packages (from httplib2>=0.9.1->oauth2client) (3.0.9)\n"
     ]
    }
   ],
   "source": [
    "%pip install oauth2client"
   ]
  }
 ],
 "metadata": {
  "kernelspec": {
   "display_name": "Python 3",
   "language": "python",
   "name": "python3"
  },
  "language_info": {
   "codemirror_mode": {
    "name": "ipython",
    "version": 3
   },
   "file_extension": ".py",
   "mimetype": "text/x-python",
   "name": "python",
   "nbconvert_exporter": "python",
   "pygments_lexer": "ipython3",
   "version": "3.11.3"
  },
  "orig_nbformat": 4
 },
 "nbformat": 4,
 "nbformat_minor": 2
}
